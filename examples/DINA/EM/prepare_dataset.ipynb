{
 "cells": [
  {
   "cell_type": "code",
   "execution_count": null,
   "metadata": {},
   "outputs": [
    {
     "name": "stderr",
     "output_type": "stream",
     "text": [
      "downloader, INFO http://staff.ustc.edu.cn/~qiliuql/data/math2015.rar is saved as ..\\..\\..\\data\\math2015.rar\n"
     ]
    },
    {
     "ename": "TypeError",
     "evalue": "int() argument must be a string, a bytes-like object or a number, not 'NoneType'",
     "output_type": "error",
     "traceback": [
      "\u001b[1;31m---------------------------------------------------------------------------\u001b[0m",
      "\u001b[1;31mTypeError\u001b[0m                                 Traceback (most recent call last)",
      "Cell \u001b[1;32mIn[5], line 4\u001b[0m\n\u001b[0;32m      1\u001b[0m \u001b[38;5;66;03m# Download the Cognitive Diagnosis Benchmark Datasets (CDBD)\u001b[39;00m\n\u001b[0;32m      2\u001b[0m \u001b[38;5;28;01mfrom\u001b[39;00m\u001b[38;5;250m \u001b[39m\u001b[38;5;21;01mEduData\u001b[39;00m\u001b[38;5;250m \u001b[39m\u001b[38;5;28;01mimport\u001b[39;00m get_data\n\u001b[1;32m----> 4\u001b[0m \u001b[43mget_data\u001b[49m\u001b[43m(\u001b[49m\u001b[38;5;124;43m\"\u001b[39;49m\u001b[38;5;124;43mmath2015\u001b[39;49m\u001b[38;5;124;43m\"\u001b[39;49m\u001b[43m,\u001b[49m\u001b[43m \u001b[49m\u001b[38;5;124;43m\"\u001b[39;49m\u001b[38;5;124;43m../../../data\u001b[39;49m\u001b[38;5;124;43m\"\u001b[39;49m\u001b[43m)\u001b[49m\n",
      "File \u001b[1;32md:\\app\\Anaconda\\envs\\educdm\\lib\\site-packages\\EduData\\DataSet\\download_data\\download_data.py:223\u001b[0m, in \u001b[0;36mget_data\u001b[1;34m(dataset, data_dir, override, url_dict)\u001b[0m\n\u001b[0;32m    220\u001b[0m save_path \u001b[38;5;241m=\u001b[39m path_append(data_dir, url\u001b[38;5;241m.\u001b[39msplit(\u001b[38;5;124m'\u001b[39m\u001b[38;5;124m/\u001b[39m\u001b[38;5;124m'\u001b[39m)[\u001b[38;5;241m-\u001b[39m\u001b[38;5;241m1\u001b[39m], to_str\u001b[38;5;241m=\u001b[39m\u001b[38;5;28;01mTrue\u001b[39;00m)\n\u001b[0;32m    222\u001b[0m \u001b[38;5;28;01mtry\u001b[39;00m:\n\u001b[1;32m--> 223\u001b[0m     \u001b[38;5;28;01mreturn\u001b[39;00m \u001b[43mdownload_data\u001b[49m\u001b[43m(\u001b[49m\u001b[43murl\u001b[49m\u001b[43m,\u001b[49m\u001b[43m \u001b[49m\u001b[43mdata_dir\u001b[49m\u001b[43m,\u001b[49m\u001b[43m \u001b[49m\u001b[43moverride\u001b[49m\u001b[43m)\u001b[49m\n\u001b[0;32m    224\u001b[0m \u001b[38;5;28;01mexcept\u001b[39;00m \u001b[38;5;167;01mFileExistsError\u001b[39;00m:\n\u001b[0;32m    225\u001b[0m     logger\u001b[38;5;241m.\u001b[39minfo(\u001b[38;5;124m\"\u001b[39m\u001b[38;5;124mfile existed, skipped\u001b[39m\u001b[38;5;124m\"\u001b[39m)\n",
      "File \u001b[1;32md:\\app\\Anaconda\\envs\\educdm\\lib\\site-packages\\EduData\\DataSet\\download_data\\download_data.py:190\u001b[0m, in \u001b[0;36mdownload_data\u001b[1;34m(url, data_dir, override, bloom_filter)\u001b[0m\n\u001b[0;32m    188\u001b[0m os\u001b[38;5;241m.\u001b[39mmakedirs(data_dir, exist_ok\u001b[38;5;241m=\u001b[39m\u001b[38;5;28;01mTrue\u001b[39;00m)\n\u001b[0;32m    189\u001b[0m save_path \u001b[38;5;241m=\u001b[39m path_append(data_dir, url\u001b[38;5;241m.\u001b[39msplit(\u001b[38;5;124m'\u001b[39m\u001b[38;5;124m/\u001b[39m\u001b[38;5;124m'\u001b[39m)[\u001b[38;5;241m-\u001b[39m\u001b[38;5;241m1\u001b[39m], to_str\u001b[38;5;241m=\u001b[39m\u001b[38;5;28;01mTrue\u001b[39;00m)\n\u001b[1;32m--> 190\u001b[0m _data_dir \u001b[38;5;241m=\u001b[39m \u001b[43mdownload_file\u001b[49m\u001b[43m(\u001b[49m\u001b[43murl\u001b[49m\u001b[43m,\u001b[49m\u001b[43m \u001b[49m\u001b[43msave_path\u001b[49m\u001b[43m,\u001b[49m\u001b[43m \u001b[49m\u001b[43moverride\u001b[49m\u001b[43m)\u001b[49m\n\u001b[0;32m    191\u001b[0m bloom_filter\u001b[38;5;241m.\u001b[39madd(url)\n\u001b[0;32m    192\u001b[0m \u001b[38;5;28;01mreturn\u001b[39;00m _data_dir\n",
      "File \u001b[1;32md:\\app\\Anaconda\\envs\\educdm\\lib\\site-packages\\EduData\\DataSet\\download_data\\download_data.py:129\u001b[0m, in \u001b[0;36mdownload_file\u001b[1;34m(url, save_path, override, chunksize)\u001b[0m\n\u001b[0;32m    126\u001b[0m res \u001b[38;5;241m=\u001b[39m requests\u001b[38;5;241m.\u001b[39mget(url, headers\u001b[38;5;241m=\u001b[39mheaders, stream\u001b[38;5;241m=\u001b[39m\u001b[38;5;28;01mTrue\u001b[39;00m, timeout\u001b[38;5;241m=\u001b[39m\u001b[38;5;241m15\u001b[39m)\n\u001b[0;32m    128\u001b[0m mode \u001b[38;5;241m=\u001b[39m \u001b[38;5;124m'\u001b[39m\u001b[38;5;124mwb+\u001b[39m\u001b[38;5;124m'\u001b[39m\n\u001b[1;32m--> 129\u001b[0m content_len \u001b[38;5;241m=\u001b[39m \u001b[38;5;28;43mint\u001b[39;49m\u001b[43m(\u001b[49m\u001b[43mres\u001b[49m\u001b[38;5;241;43m.\u001b[39;49m\u001b[43mheaders\u001b[49m\u001b[38;5;241;43m.\u001b[39;49m\u001b[43mget\u001b[49m\u001b[43m(\u001b[49m\u001b[38;5;124;43m'\u001b[39;49m\u001b[38;5;124;43mcontent-length\u001b[39;49m\u001b[38;5;124;43m'\u001b[39;49m\u001b[43m)\u001b[49m\u001b[43m)\u001b[49m\n\u001b[0;32m    130\u001b[0m \u001b[38;5;66;03m# Check if server supports range feature, and works as expected.\u001b[39;00m\n\u001b[0;32m    131\u001b[0m \u001b[38;5;28;01mif\u001b[39;00m res\u001b[38;5;241m.\u001b[39mstatus_code \u001b[38;5;241m==\u001b[39m \u001b[38;5;241m206\u001b[39m:\n\u001b[0;32m    132\u001b[0m     \u001b[38;5;66;03m# Content range is in format `bytes 327675-43968289/43968290`, check\u001b[39;00m\n\u001b[0;32m    133\u001b[0m     \u001b[38;5;66;03m# if it starts from where we requested.\u001b[39;00m\n",
      "\u001b[1;31mTypeError\u001b[0m: int() argument must be a string, a bytes-like object or a number, not 'NoneType'"
     ]
    }
   ],
   "source": [
    "# # Download the Cognitive Diagnosis Benchmark Datasets (CDBD)\n",
    "# from EduData import get_data\n",
    "\n",
    "# get_data(\"math2015\", \"../../../data\")"
   ]
  },
  {
   "cell_type": "code",
   "execution_count": 6,
   "metadata": {},
   "outputs": [
    {
     "name": "stdout",
     "output_type": "stream",
     "text": [
      "{'user_id': 0, 'item_id': 11, 'score': 1.0} {'user_id': 0, 'item_id': 9, 'score': 1.0}\n"
     ]
    }
   ],
   "source": [
    "# Data preprocessing, split train/valid/test data\n",
    "\n",
    "import numpy as np\n",
    "import random\n",
    "import json\n",
    "\n",
    "train_ratio = 0.8\n",
    "valid_ratio = 0\n",
    "# Q matrix\n",
    "np.savetxt(\"../../../data/math2015/Math1/q_m.csv\", np.loadtxt(\"../../../data/math2015/Math1/q.txt\", dtype=int), delimiter=',', fmt='%d')\n",
    "\n",
    "# response matrix, split dataset\n",
    "R = (np.loadtxt(\"../../../data/math2015/Math1/data.txt\") == 1).astype(float)\n",
    "stu_num, prob_num = R.shape[0], R.shape[1]\n",
    "train_logs, valid_logs, test_logs = [], [], []\n",
    "for stu in range(stu_num):\n",
    "    stu_logs = []\n",
    "    for prob in range(prob_num):\n",
    "        log = {'user_id': int(stu), 'item_id': int(prob), 'score': R[stu][prob]}\n",
    "        stu_logs.append(log)\n",
    "    random.shuffle(stu_logs)\n",
    "    train_logs += stu_logs[: int(train_ratio * prob_num)]\n",
    "    valid_logs += stu_logs[int(train_ratio * prob_num): int(train_ratio * prob_num) + int(valid_ratio * prob_num)]\n",
    "    test_logs += stu_logs[int(train_ratio * prob_num) + int(valid_ratio * prob_num):]\n",
    "\n",
    "with open(\"../../../data/math2015/Math1/train_data.json\", 'w', encoding='utf8') as file:\n",
    "    json.dump(train_logs, file, indent=4, ensure_ascii=False)\n",
    "with open(\"../../../data/math2015/Math1/valid_data.json\", 'w', encoding='utf8') as file:\n",
    "    json.dump(valid_logs, file, indent=4, ensure_ascii=False)\n",
    "with open(\"../../../data/math2015/Math1/test_data.json\", 'w', encoding='utf8') as file:\n",
    "    json.dump(test_logs, file, indent=4, ensure_ascii=False)\n",
    "\n",
    "print(train_logs[0], test_logs[0])"
   ]
  },
  {
   "cell_type": "code",
   "execution_count": null,
   "metadata": {},
   "outputs": [],
   "source": []
  }
 ],
 "metadata": {
  "kernelspec": {
   "display_name": "educdm",
   "language": "python",
   "name": "python3"
  },
  "language_info": {
   "codemirror_mode": {
    "name": "ipython",
    "version": 3
   },
   "file_extension": ".py",
   "mimetype": "text/x-python",
   "name": "python",
   "nbconvert_exporter": "python",
   "pygments_lexer": "ipython3",
   "version": "3.8.20"
  }
 },
 "nbformat": 4,
 "nbformat_minor": 1
}
