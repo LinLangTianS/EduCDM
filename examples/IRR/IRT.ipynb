{
 "cells": [
  {
   "cell_type": "markdown",
   "source": [
    "# Item Response Ranking for IRT\n",
    "\n",
    "This notebook will show you how to train and use the IRR-IRT.\n",
    "Refer to [IRR doc](../../docs/IRR.md) for more details.\n",
    "First, we will show how to get the data (here we use a0910 as the dataset).\n",
    "Then we will show how to train a IRR-IRT and perform the parameters persistence.\n",
    "At last, we will show how to load the parameters from the file and evaluate on the test dataset."
   ],
   "metadata": {
    "collapsed": false,
    "pycharm": {
     "name": "#%% md\n"
    }
   }
  },
  {
   "cell_type": "code",
   "execution_count": 1,
   "metadata": {
    "collapsed": true
   },
   "outputs": [
    {
     "name": "stderr",
     "output_type": "stream",
     "text": [
      "reading records from ../../data/a0910/item.csv: 100%|██████████| 19529/19529 [00:00<00:00, 55628.64it/s]\n",
      "rating2triplet: 100%|██████████| 17051/17051 [00:16<00:00, 1032.23it/s]\n"
     ]
    },
    {
     "data": {
      "text/plain": "(<longling.lib.iterator.AsyncLoopIter at 0x1f62c7c49a0>,\n <torch.utils.data.dataloader.DataLoader at 0x1f629124f70>,\n <torch.utils.data.dataloader.DataLoader at 0x1f62bae1be0>)"
     },
     "execution_count": 1,
     "metadata": {},
     "output_type": "execute_result"
    }
   ],
   "source": [
    "import logging\n",
    "from longling.lib.structure import AttrDict\n",
    "from longling import set_logging_info\n",
    "from EduCDM.IRR import pair_etl as etl, point_etl as vt_etl, extract_item\n",
    "\n",
    "set_logging_info()\n",
    "\n",
    "params = AttrDict(\n",
    "    batch_size=256,\n",
    "    n_neg=10,\n",
    "    n_imp=10,\n",
    "    logger=logging.getLogger(),\n",
    "    hyper_params={\"user_num\": 4164}\n",
    ")\n",
    "item_knowledge = extract_item(\"../../data/a0910/item.csv\", 123, params)\n",
    "train_data, train_df = etl(\"../../data/a0910/train.csv\", item_knowledge, params)\n",
    "valid_data, _ = vt_etl(\"../../data/a0910/valid.csv\", item_knowledge, params)\n",
    "test_data, _ = vt_etl(\"../../data/a0910/test.csv\", item_knowledge, params)\n",
    "\n",
    "train_data, valid_data, test_data"
   ]
  },
  {
   "cell_type": "code",
   "execution_count": 2,
   "outputs": [
    {
     "data": {
      "text/plain": "        user_id  item_id  score\n0          1615    12977    1.0\n1           782    13124    0.0\n2          1084    16475    0.0\n3           593     8690    0.0\n4           127    14225    1.0\n...         ...      ...    ...\n186044     2280     6019    0.0\n186045      121        2    1.0\n186046      601     5425    1.0\n186047      573     2412    0.0\n186048       60     2969    1.0\n\n[186049 rows x 3 columns]",
      "text/html": "<div>\n<style scoped>\n    .dataframe tbody tr th:only-of-type {\n        vertical-align: middle;\n    }\n\n    .dataframe tbody tr th {\n        vertical-align: top;\n    }\n\n    .dataframe thead th {\n        text-align: right;\n    }\n</style>\n<table border=\"1\" class=\"dataframe\">\n  <thead>\n    <tr style=\"text-align: right;\">\n      <th></th>\n      <th>user_id</th>\n      <th>item_id</th>\n      <th>score</th>\n    </tr>\n  </thead>\n  <tbody>\n    <tr>\n      <th>0</th>\n      <td>1615</td>\n      <td>12977</td>\n      <td>1.0</td>\n    </tr>\n    <tr>\n      <th>1</th>\n      <td>782</td>\n      <td>13124</td>\n      <td>0.0</td>\n    </tr>\n    <tr>\n      <th>2</th>\n      <td>1084</td>\n      <td>16475</td>\n      <td>0.0</td>\n    </tr>\n    <tr>\n      <th>3</th>\n      <td>593</td>\n      <td>8690</td>\n      <td>0.0</td>\n    </tr>\n    <tr>\n      <th>4</th>\n      <td>127</td>\n      <td>14225</td>\n      <td>1.0</td>\n    </tr>\n    <tr>\n      <th>...</th>\n      <td>...</td>\n      <td>...</td>\n      <td>...</td>\n    </tr>\n    <tr>\n      <th>186044</th>\n      <td>2280</td>\n      <td>6019</td>\n      <td>0.0</td>\n    </tr>\n    <tr>\n      <th>186045</th>\n      <td>121</td>\n      <td>2</td>\n      <td>1.0</td>\n    </tr>\n    <tr>\n      <th>186046</th>\n      <td>601</td>\n      <td>5425</td>\n      <td>1.0</td>\n    </tr>\n    <tr>\n      <th>186047</th>\n      <td>573</td>\n      <td>2412</td>\n      <td>0.0</td>\n    </tr>\n    <tr>\n      <th>186048</th>\n      <td>60</td>\n      <td>2969</td>\n      <td>1.0</td>\n    </tr>\n  </tbody>\n</table>\n<p>186049 rows × 3 columns</p>\n</div>"
     },
     "execution_count": 2,
     "metadata": {},
     "output_type": "execute_result"
    }
   ],
   "source": [
    "train_df"
   ],
   "metadata": {
    "collapsed": false,
    "pycharm": {
     "name": "#%%\n"
    }
   }
  },
  {
   "cell_type": "code",
   "execution_count": 3,
   "outputs": [
    {
     "name": "stderr",
     "output_type": "stream",
     "text": [
      "Epoch 0: 727it [00:48, 14.99it/s]\n",
      "evaluating: 100%|██████████| 101/101 [00:00<00:00, 150.98it/s]\n",
      "formatting item df: 100%|██████████| 10415/10415 [00:00<00:00, 11426.27it/s]\n",
      "ranking metrics: 10415it [00:15, 674.53it/s]\n",
      "Epoch 1: 100%|██████████| 727/727 [00:49<00:00, 14.64it/s]\n",
      "evaluating: 100%|██████████| 101/101 [00:00<00:00, 137.22it/s]\n",
      "formatting item df: 100%|██████████| 10415/10415 [00:00<00:00, 12475.22it/s]\n",
      "ranking metrics: 10415it [00:14, 721.48it/s]\n",
      "INFO:root:save parameters to IRR-IRT.params\n"
     ]
    },
    {
     "name": "stdout",
     "output_type": "stream",
     "text": [
      "[Epoch 0] Loss: 2.573528, PointLoss: 0.675686, PairLoss: 4.471370\n",
      "[Epoch 0]\n",
      "      ndcg@k  precision@k  recall@k      f1@k     len@k  support@k\n",
      "1   1.000000     0.666635  0.469846  0.520679  1.000000      10415\n",
      "3   0.886982     0.671884  0.734436  0.683024  1.906961      10415\n",
      "5   0.890280     0.673186  0.792938  0.710393  2.229573      10415\n",
      "10  0.890548     0.673845  0.815712  0.719816  2.423428      10415\n",
      "auc: 0.830947\tmap: 0.908118\tmrr: 0.898518\tcoverage_error: 3.039120\tranking_loss: 0.295783\tlen: 2.458569\tsupport: 10415\n",
      "[Epoch 1] Loss: 2.559691, PointLoss: 0.655644, PairLoss: 4.463738\n",
      "[Epoch 1]\n",
      "      ndcg@k  precision@k  recall@k      f1@k     len@k  support@k\n",
      "1   1.000000     0.668459  0.470703  0.521785  1.000000      10415\n",
      "3   0.887368     0.672428  0.734589  0.683341  1.906961      10415\n",
      "5   0.890856     0.673321  0.792951  0.710456  2.229573      10415\n",
      "10  0.891069     0.673961  0.815888  0.719951  2.423428      10415\n",
      "auc: 0.832663\tmap: 0.908796\tmrr: 0.899676\tcoverage_error: 3.036266\tranking_loss: 0.292783\tlen: 2.458569\tsupport: 10415\n"
     ]
    }
   ],
   "source": [
    "from EduCDM.IRR import IRT\n",
    "\n",
    "cdm = IRT(\n",
    "    4163 + 1,\n",
    "    17746 + 1,\n",
    "    123\n",
    ")\n",
    "cdm.train(\n",
    "    train_data,\n",
    "    valid_data,\n",
    "    epoch=2,\n",
    ")\n",
    "cdm.save(\"IRR-IRT.params\")"
   ],
   "metadata": {
    "collapsed": false,
    "pycharm": {
     "name": "#%%\n"
    }
   }
  },
  {
   "cell_type": "code",
   "execution_count": 4,
   "outputs": [
    {
     "name": "stderr",
     "output_type": "stream",
     "text": [
      "INFO:root:load parameters from IRR-IRT.params\n",
      "evaluating: 100%|██████████| 218/218 [00:00<00:00, 262.05it/s]\n",
      "formatting item df: 100%|██████████| 13682/13682 [00:01<00:00, 13153.81it/s]\n",
      "ranking metrics: 13682it [00:23, 584.22it/s]\n"
     ]
    },
    {
     "name": "stdout",
     "output_type": "stream",
     "text": [
      "      ndcg@k  precision@k  recall@k      f1@k     len@k  support@k\n",
      "1   1.000000     0.671466  0.370265  0.434827  1.000000      13682\n",
      "3   0.862770     0.668872  0.663951  0.634433  2.268528      13682\n",
      "5   0.868876     0.667471  0.769999  0.689557  2.981582      13682\n",
      "10  0.869360     0.667608  0.844664  0.723544  3.723652      13682\n",
      "auc: 0.767649\tmap: 0.869138\tmrr: 0.873835\tcoverage_error: 4.662276\tranking_loss: 0.320187\tlen: 4.075428\tsupport: 13682\n"
     ]
    }
   ],
   "source": [
    "cdm.load(\"IRR-IRT.params\")\n",
    "print(cdm.eval(test_data))"
   ],
   "metadata": {
    "collapsed": false,
    "pycharm": {
     "name": "#%%\n"
    }
   }
  }
 ],
 "metadata": {
  "kernelspec": {
   "display_name": "Python 3",
   "language": "python",
   "name": "python3"
  },
  "language_info": {
   "codemirror_mode": {
    "name": "ipython",
    "version": 2
   },
   "file_extension": ".py",
   "mimetype": "text/x-python",
   "name": "python",
   "nbconvert_exporter": "python",
   "pygments_lexer": "ipython2",
   "version": "2.7.6"
  }
 },
 "nbformat": 4,
 "nbformat_minor": 0
}